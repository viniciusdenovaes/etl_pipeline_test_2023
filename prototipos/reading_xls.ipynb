{
 "cells": [
  {
   "cell_type": "code",
   "execution_count": 11,
   "metadata": {
    "collapsed": true
   },
   "outputs": [],
   "source": [
    "\n",
    "import datetime as dt\n",
    "import pandas as pd\n",
    "import pyspark\n",
    "import pyspark.pandas as ps\n",
    "from pyspark.sql import SparkSession"
   ]
  },
  {
   "cell_type": "code",
   "execution_count": 12,
   "outputs": [],
   "source": [
    "# oil diesel by UF and type: $DPCache_m3_2\n",
    "diesel_df = pd.read_excel('../instance/vendas_teste.ods', 'DPCache_m3_2')"
   ],
   "metadata": {
    "collapsed": false
   }
  },
  {
   "cell_type": "code",
   "execution_count": 13,
   "outputs": [],
   "source": [
    "# oil derivative fuels by UF and product: $DPCache_m3\n",
    "oilder_df = pd.read_excel('../instance/vendas_teste.ods', 'DPCache_m3')"
   ],
   "metadata": {
    "collapsed": false
   }
  },
  {
   "cell_type": "code",
   "execution_count": 4,
   "outputs": [],
   "source": [
    "unit = 'm3'"
   ],
   "metadata": {
    "collapsed": false
   }
  },
  {
   "cell_type": "code",
   "execution_count": 5,
   "outputs": [
    {
     "data": {
      "text/plain": "{'ÓLEO DIESEL (OUTROS ) (m3)',\n 'ÓLEO DIESEL MARÍTIMO (m3)',\n 'ÓLEO DIESEL S-10 (m3)',\n 'ÓLEO DIESEL S-1800 (m3)',\n 'ÓLEO DIESEL S-500 (m3)'}"
     },
     "execution_count": 5,
     "metadata": {},
     "output_type": "execute_result"
    }
   ],
   "source": [
    "set(diesel_df['COMBUSTÍVEL'].to_list())"
   ],
   "metadata": {
    "collapsed": false
   }
  },
  {
   "cell_type": "code",
   "execution_count": 28,
   "outputs": [],
   "source": [
    "diesel_pd_df = diesel_df.toPandas()\n",
    "oilder_pd_df = oilder_df.toPandas()"
   ],
   "metadata": {
    "collapsed": false
   }
  },
  {
   "cell_type": "code",
   "execution_count": 6,
   "outputs": [],
   "source": [
    "months = ['Jan', 'Fev', 'Mar', 'Abr', 'Mai', 'Jun', 'Jul', 'Ago', 'Set', 'Out', 'Nov', 'Dez']\n",
    "months_to_int_d = {m: i for m, i in zip(months, range(1, 12+1))}\n",
    "months_to_int = lambda x: months_to_int_d[x]"
   ],
   "metadata": {
    "collapsed": false
   }
  },
  {
   "cell_type": "code",
   "execution_count": 7,
   "outputs": [
    {
     "data": {
      "text/plain": "1"
     },
     "execution_count": 7,
     "metadata": {},
     "output_type": "execute_result"
    }
   ],
   "source": [
    "months_to_int('Jan')"
   ],
   "metadata": {
    "collapsed": false
   }
  },
  {
   "cell_type": "code",
   "execution_count": 8,
   "outputs": [
    {
     "data": {
      "text/plain": "                     COMBUSTÍVEL   ANO               REGIÃO  \\\n0          ÓLEO DIESEL S-10 (m3)  2013         REGIÃO NORTE   \n1          ÓLEO DIESEL S-10 (m3)  2013         REGIÃO NORTE   \n2          ÓLEO DIESEL S-10 (m3)  2013         REGIÃO NORTE   \n3          ÓLEO DIESEL S-10 (m3)  2013         REGIÃO NORTE   \n4          ÓLEO DIESEL S-10 (m3)  2013         REGIÃO NORTE   \n...                          ...   ...                  ...   \n1075  ÓLEO DIESEL (OUTROS ) (m3)  2020           REGIÃO SUL   \n1076  ÓLEO DIESEL (OUTROS ) (m3)  2020  REGIÃO CENTRO-OESTE   \n1077  ÓLEO DIESEL (OUTROS ) (m3)  2020  REGIÃO CENTRO-OESTE   \n1078  ÓLEO DIESEL (OUTROS ) (m3)  2020  REGIÃO CENTRO-OESTE   \n1079  ÓLEO DIESEL (OUTROS ) (m3)  2020  REGIÃO CENTRO-OESTE   \n\n                  ESTADO       Jan        Fev        Mar        Abr  \\\n0               RONDÔNIA  81453.67   3517.600   3681.700   4700.670   \n1                   ACRE   1483.00  11202.000    363.000    410.000   \n2               AMAZONAS   6836.30   6784.232  61443.832   3190.585   \n3                RORAIMA   1475.30   1502.700   1531.800  13423.700   \n4                   PARÁ  40913.48  45383.500  44013.219  41975.030   \n...                  ...       ...        ...        ...        ...   \n1075   RIO GRANDE DO SUL      0.00      0.000     10.000     10.000   \n1076  MATO GROSSO DO SUL      0.00      0.000      0.000      0.000   \n1077         MATO GROSSO     45.00      0.000      0.000      0.000   \n1078               GOIÁS      0.00      0.000      0.000      0.000   \n1079    DISTRITO FEDERAL      0.00      0.000      0.000      0.000   \n\n             Mai      Jun       Jul      Ago       Set        Out        Nov  \\\n0       5339.200   6166.4   6539.65   7283.7   8082.85   7902.550   9383.150   \n1        536.000    607.0    740.00    756.0    971.00   1174.000   1240.000   \n2       3305.000   3391.0   3637.00   4250.0   4576.00   5756.879   6228.636   \n3        795.400    757.2    939.80   1040.6    966.00    992.900   1027.000   \n4     441140.785  30137.8  28146.30  31280.5  33033.05  33519.880  34321.530   \n...          ...      ...       ...      ...       ...        ...        ...   \n1075       0.000     10.0       NaN      NaN       NaN     60.000     10.000   \n1076       0.000      0.0      0.00      NaN       NaN        NaN      0.000   \n1077       0.000      0.0      0.00      0.0       NaN        NaN        NaN   \n1078       0.000      0.0      0.00      0.0     41.40        NaN        NaN   \n1079       0.000      0.0      0.00      0.0      0.00      0.000        NaN   \n\n           Dez      TOTAL  \n0      9767.40   9088.800  \n1      1439.00   1483.000  \n2      6334.00   7154.200  \n3      1083.80   1311.200  \n4     37168.16  41248.336  \n...        ...        ...  \n1075     10.00     10.000  \n1076      0.00      0.000  \n1077     90.00     45.000  \n1078       NaN     41.400  \n1079       NaN        NaN  \n\n[1080 rows x 17 columns]",
      "text/html": "<div>\n<style scoped>\n    .dataframe tbody tr th:only-of-type {\n        vertical-align: middle;\n    }\n\n    .dataframe tbody tr th {\n        vertical-align: top;\n    }\n\n    .dataframe thead th {\n        text-align: right;\n    }\n</style>\n<table border=\"1\" class=\"dataframe\">\n  <thead>\n    <tr style=\"text-align: right;\">\n      <th></th>\n      <th>COMBUSTÍVEL</th>\n      <th>ANO</th>\n      <th>REGIÃO</th>\n      <th>ESTADO</th>\n      <th>Jan</th>\n      <th>Fev</th>\n      <th>Mar</th>\n      <th>Abr</th>\n      <th>Mai</th>\n      <th>Jun</th>\n      <th>Jul</th>\n      <th>Ago</th>\n      <th>Set</th>\n      <th>Out</th>\n      <th>Nov</th>\n      <th>Dez</th>\n      <th>TOTAL</th>\n    </tr>\n  </thead>\n  <tbody>\n    <tr>\n      <th>0</th>\n      <td>ÓLEO DIESEL S-10 (m3)</td>\n      <td>2013</td>\n      <td>REGIÃO NORTE</td>\n      <td>RONDÔNIA</td>\n      <td>81453.67</td>\n      <td>3517.600</td>\n      <td>3681.700</td>\n      <td>4700.670</td>\n      <td>5339.200</td>\n      <td>6166.4</td>\n      <td>6539.65</td>\n      <td>7283.7</td>\n      <td>8082.85</td>\n      <td>7902.550</td>\n      <td>9383.150</td>\n      <td>9767.40</td>\n      <td>9088.800</td>\n    </tr>\n    <tr>\n      <th>1</th>\n      <td>ÓLEO DIESEL S-10 (m3)</td>\n      <td>2013</td>\n      <td>REGIÃO NORTE</td>\n      <td>ACRE</td>\n      <td>1483.00</td>\n      <td>11202.000</td>\n      <td>363.000</td>\n      <td>410.000</td>\n      <td>536.000</td>\n      <td>607.0</td>\n      <td>740.00</td>\n      <td>756.0</td>\n      <td>971.00</td>\n      <td>1174.000</td>\n      <td>1240.000</td>\n      <td>1439.00</td>\n      <td>1483.000</td>\n    </tr>\n    <tr>\n      <th>2</th>\n      <td>ÓLEO DIESEL S-10 (m3)</td>\n      <td>2013</td>\n      <td>REGIÃO NORTE</td>\n      <td>AMAZONAS</td>\n      <td>6836.30</td>\n      <td>6784.232</td>\n      <td>61443.832</td>\n      <td>3190.585</td>\n      <td>3305.000</td>\n      <td>3391.0</td>\n      <td>3637.00</td>\n      <td>4250.0</td>\n      <td>4576.00</td>\n      <td>5756.879</td>\n      <td>6228.636</td>\n      <td>6334.00</td>\n      <td>7154.200</td>\n    </tr>\n    <tr>\n      <th>3</th>\n      <td>ÓLEO DIESEL S-10 (m3)</td>\n      <td>2013</td>\n      <td>REGIÃO NORTE</td>\n      <td>RORAIMA</td>\n      <td>1475.30</td>\n      <td>1502.700</td>\n      <td>1531.800</td>\n      <td>13423.700</td>\n      <td>795.400</td>\n      <td>757.2</td>\n      <td>939.80</td>\n      <td>1040.6</td>\n      <td>966.00</td>\n      <td>992.900</td>\n      <td>1027.000</td>\n      <td>1083.80</td>\n      <td>1311.200</td>\n    </tr>\n    <tr>\n      <th>4</th>\n      <td>ÓLEO DIESEL S-10 (m3)</td>\n      <td>2013</td>\n      <td>REGIÃO NORTE</td>\n      <td>PARÁ</td>\n      <td>40913.48</td>\n      <td>45383.500</td>\n      <td>44013.219</td>\n      <td>41975.030</td>\n      <td>441140.785</td>\n      <td>30137.8</td>\n      <td>28146.30</td>\n      <td>31280.5</td>\n      <td>33033.05</td>\n      <td>33519.880</td>\n      <td>34321.530</td>\n      <td>37168.16</td>\n      <td>41248.336</td>\n    </tr>\n    <tr>\n      <th>...</th>\n      <td>...</td>\n      <td>...</td>\n      <td>...</td>\n      <td>...</td>\n      <td>...</td>\n      <td>...</td>\n      <td>...</td>\n      <td>...</td>\n      <td>...</td>\n      <td>...</td>\n      <td>...</td>\n      <td>...</td>\n      <td>...</td>\n      <td>...</td>\n      <td>...</td>\n      <td>...</td>\n      <td>...</td>\n    </tr>\n    <tr>\n      <th>1075</th>\n      <td>ÓLEO DIESEL (OUTROS ) (m3)</td>\n      <td>2020</td>\n      <td>REGIÃO SUL</td>\n      <td>RIO GRANDE DO SUL</td>\n      <td>0.00</td>\n      <td>0.000</td>\n      <td>10.000</td>\n      <td>10.000</td>\n      <td>0.000</td>\n      <td>10.0</td>\n      <td>NaN</td>\n      <td>NaN</td>\n      <td>NaN</td>\n      <td>60.000</td>\n      <td>10.000</td>\n      <td>10.00</td>\n      <td>10.000</td>\n    </tr>\n    <tr>\n      <th>1076</th>\n      <td>ÓLEO DIESEL (OUTROS ) (m3)</td>\n      <td>2020</td>\n      <td>REGIÃO CENTRO-OESTE</td>\n      <td>MATO GROSSO DO SUL</td>\n      <td>0.00</td>\n      <td>0.000</td>\n      <td>0.000</td>\n      <td>0.000</td>\n      <td>0.000</td>\n      <td>0.0</td>\n      <td>0.00</td>\n      <td>NaN</td>\n      <td>NaN</td>\n      <td>NaN</td>\n      <td>0.000</td>\n      <td>0.00</td>\n      <td>0.000</td>\n    </tr>\n    <tr>\n      <th>1077</th>\n      <td>ÓLEO DIESEL (OUTROS ) (m3)</td>\n      <td>2020</td>\n      <td>REGIÃO CENTRO-OESTE</td>\n      <td>MATO GROSSO</td>\n      <td>45.00</td>\n      <td>0.000</td>\n      <td>0.000</td>\n      <td>0.000</td>\n      <td>0.000</td>\n      <td>0.0</td>\n      <td>0.00</td>\n      <td>0.0</td>\n      <td>NaN</td>\n      <td>NaN</td>\n      <td>NaN</td>\n      <td>90.00</td>\n      <td>45.000</td>\n    </tr>\n    <tr>\n      <th>1078</th>\n      <td>ÓLEO DIESEL (OUTROS ) (m3)</td>\n      <td>2020</td>\n      <td>REGIÃO CENTRO-OESTE</td>\n      <td>GOIÁS</td>\n      <td>0.00</td>\n      <td>0.000</td>\n      <td>0.000</td>\n      <td>0.000</td>\n      <td>0.000</td>\n      <td>0.0</td>\n      <td>0.00</td>\n      <td>0.0</td>\n      <td>41.40</td>\n      <td>NaN</td>\n      <td>NaN</td>\n      <td>NaN</td>\n      <td>41.400</td>\n    </tr>\n    <tr>\n      <th>1079</th>\n      <td>ÓLEO DIESEL (OUTROS ) (m3)</td>\n      <td>2020</td>\n      <td>REGIÃO CENTRO-OESTE</td>\n      <td>DISTRITO FEDERAL</td>\n      <td>0.00</td>\n      <td>0.000</td>\n      <td>0.000</td>\n      <td>0.000</td>\n      <td>0.000</td>\n      <td>0.0</td>\n      <td>0.00</td>\n      <td>0.0</td>\n      <td>0.00</td>\n      <td>0.000</td>\n      <td>NaN</td>\n      <td>NaN</td>\n      <td>NaN</td>\n    </tr>\n  </tbody>\n</table>\n<p>1080 rows × 17 columns</p>\n</div>"
     },
     "execution_count": 8,
     "metadata": {},
     "output_type": "execute_result"
    }
   ],
   "source": [
    "diesel_df"
   ],
   "metadata": {
    "collapsed": false
   }
  },
  {
   "cell_type": "code",
   "execution_count": 9,
   "outputs": [],
   "source": [
    "diesel_df = diesel_df.melt(id_vars=['ANO', 'COMBUSTÍVEL', 'ESTADO'], value_vars=months, var_name='MONTH', value_name='volume')"
   ],
   "metadata": {
    "collapsed": false
   }
  },
  {
   "cell_type": "markdown",
   "source": [
    "## Schema\n",
    "\n",
    "Data should be stored in the following format:\n",
    "\n",
    "| Column       | Type        |\n",
    "| ------------ | ----------- |\n",
    "| `year_month` | `date`      |\n",
    "| `uf`         | `string`    |\n",
    "| `product`    | `string`    |\n",
    "| `unit`       | `string`    |\n",
    "| `volume`     | `double`    |\n",
    "| `created_at` | `timestamp` |"
   ],
   "metadata": {
    "collapsed": false
   }
  },
  {
   "cell_type": "code",
   "execution_count": 10,
   "outputs": [],
   "source": [
    "diesel_df['month_int'] = diesel_df.apply(lambda x: months_to_int(x['MONTH']), axis=1)"
   ],
   "metadata": {
    "collapsed": false
   }
  },
  {
   "cell_type": "code",
   "execution_count": 11,
   "outputs": [],
   "source": [
    "diesel_df['year_month'] = diesel_df.apply(lambda x: dt.datetime(x['ANO'], x['month_int'], 1), axis=1)"
   ],
   "metadata": {
    "collapsed": false
   }
  },
  {
   "cell_type": "code",
   "execution_count": 12,
   "outputs": [],
   "source": [
    "diesel_df.rename({'COMBUSTÍVEL': 'product', 'ESTADO': 'uf'}, inplace=True, axis=1)"
   ],
   "metadata": {
    "collapsed": false
   }
  },
  {
   "cell_type": "code",
   "execution_count": 13,
   "outputs": [],
   "source": [
    "diesel_df['unit'] = 'm3'"
   ],
   "metadata": {
    "collapsed": false
   }
  },
  {
   "cell_type": "code",
   "execution_count": 14,
   "outputs": [],
   "source": [
    "diesel_df['created_at'] = pd.Timestamp.now()"
   ],
   "metadata": {
    "collapsed": false
   }
  },
  {
   "cell_type": "code",
   "execution_count": 15,
   "outputs": [],
   "source": [
    "diesel_final = diesel_df[['year_month', 'uf', 'product', 'unit', 'volume', 'created_at']]"
   ],
   "metadata": {
    "collapsed": false
   }
  },
  {
   "cell_type": "code",
   "execution_count": 16,
   "outputs": [
    {
     "data": {
      "text/plain": "      year_month                  uf                     product unit  \\\n0     2013-01-01            RONDÔNIA       ÓLEO DIESEL S-10 (m3)   m3   \n1     2013-01-01                ACRE       ÓLEO DIESEL S-10 (m3)   m3   \n2     2013-01-01            AMAZONAS       ÓLEO DIESEL S-10 (m3)   m3   \n3     2013-01-01             RORAIMA       ÓLEO DIESEL S-10 (m3)   m3   \n4     2013-01-01                PARÁ       ÓLEO DIESEL S-10 (m3)   m3   \n...          ...                 ...                         ...  ...   \n12955 2020-12-01   RIO GRANDE DO SUL  ÓLEO DIESEL (OUTROS ) (m3)   m3   \n12956 2020-12-01  MATO GROSSO DO SUL  ÓLEO DIESEL (OUTROS ) (m3)   m3   \n12957 2020-12-01         MATO GROSSO  ÓLEO DIESEL (OUTROS ) (m3)   m3   \n12958 2020-12-01               GOIÁS  ÓLEO DIESEL (OUTROS ) (m3)   m3   \n12959 2020-12-01    DISTRITO FEDERAL  ÓLEO DIESEL (OUTROS ) (m3)   m3   \n\n         volume                 created_at  \n0      81453.67 2023-03-30 06:02:56.588435  \n1       1483.00 2023-03-30 06:02:56.588435  \n2       6836.30 2023-03-30 06:02:56.588435  \n3       1475.30 2023-03-30 06:02:56.588435  \n4      40913.48 2023-03-30 06:02:56.588435  \n...         ...                        ...  \n12955     10.00 2023-03-30 06:02:56.588435  \n12956      0.00 2023-03-30 06:02:56.588435  \n12957     90.00 2023-03-30 06:02:56.588435  \n12958       NaN 2023-03-30 06:02:56.588435  \n12959       NaN 2023-03-30 06:02:56.588435  \n\n[12960 rows x 6 columns]",
      "text/html": "<div>\n<style scoped>\n    .dataframe tbody tr th:only-of-type {\n        vertical-align: middle;\n    }\n\n    .dataframe tbody tr th {\n        vertical-align: top;\n    }\n\n    .dataframe thead th {\n        text-align: right;\n    }\n</style>\n<table border=\"1\" class=\"dataframe\">\n  <thead>\n    <tr style=\"text-align: right;\">\n      <th></th>\n      <th>year_month</th>\n      <th>uf</th>\n      <th>product</th>\n      <th>unit</th>\n      <th>volume</th>\n      <th>created_at</th>\n    </tr>\n  </thead>\n  <tbody>\n    <tr>\n      <th>0</th>\n      <td>2013-01-01</td>\n      <td>RONDÔNIA</td>\n      <td>ÓLEO DIESEL S-10 (m3)</td>\n      <td>m3</td>\n      <td>81453.67</td>\n      <td>2023-03-30 06:02:56.588435</td>\n    </tr>\n    <tr>\n      <th>1</th>\n      <td>2013-01-01</td>\n      <td>ACRE</td>\n      <td>ÓLEO DIESEL S-10 (m3)</td>\n      <td>m3</td>\n      <td>1483.00</td>\n      <td>2023-03-30 06:02:56.588435</td>\n    </tr>\n    <tr>\n      <th>2</th>\n      <td>2013-01-01</td>\n      <td>AMAZONAS</td>\n      <td>ÓLEO DIESEL S-10 (m3)</td>\n      <td>m3</td>\n      <td>6836.30</td>\n      <td>2023-03-30 06:02:56.588435</td>\n    </tr>\n    <tr>\n      <th>3</th>\n      <td>2013-01-01</td>\n      <td>RORAIMA</td>\n      <td>ÓLEO DIESEL S-10 (m3)</td>\n      <td>m3</td>\n      <td>1475.30</td>\n      <td>2023-03-30 06:02:56.588435</td>\n    </tr>\n    <tr>\n      <th>4</th>\n      <td>2013-01-01</td>\n      <td>PARÁ</td>\n      <td>ÓLEO DIESEL S-10 (m3)</td>\n      <td>m3</td>\n      <td>40913.48</td>\n      <td>2023-03-30 06:02:56.588435</td>\n    </tr>\n    <tr>\n      <th>...</th>\n      <td>...</td>\n      <td>...</td>\n      <td>...</td>\n      <td>...</td>\n      <td>...</td>\n      <td>...</td>\n    </tr>\n    <tr>\n      <th>12955</th>\n      <td>2020-12-01</td>\n      <td>RIO GRANDE DO SUL</td>\n      <td>ÓLEO DIESEL (OUTROS ) (m3)</td>\n      <td>m3</td>\n      <td>10.00</td>\n      <td>2023-03-30 06:02:56.588435</td>\n    </tr>\n    <tr>\n      <th>12956</th>\n      <td>2020-12-01</td>\n      <td>MATO GROSSO DO SUL</td>\n      <td>ÓLEO DIESEL (OUTROS ) (m3)</td>\n      <td>m3</td>\n      <td>0.00</td>\n      <td>2023-03-30 06:02:56.588435</td>\n    </tr>\n    <tr>\n      <th>12957</th>\n      <td>2020-12-01</td>\n      <td>MATO GROSSO</td>\n      <td>ÓLEO DIESEL (OUTROS ) (m3)</td>\n      <td>m3</td>\n      <td>90.00</td>\n      <td>2023-03-30 06:02:56.588435</td>\n    </tr>\n    <tr>\n      <th>12958</th>\n      <td>2020-12-01</td>\n      <td>GOIÁS</td>\n      <td>ÓLEO DIESEL (OUTROS ) (m3)</td>\n      <td>m3</td>\n      <td>NaN</td>\n      <td>2023-03-30 06:02:56.588435</td>\n    </tr>\n    <tr>\n      <th>12959</th>\n      <td>2020-12-01</td>\n      <td>DISTRITO FEDERAL</td>\n      <td>ÓLEO DIESEL (OUTROS ) (m3)</td>\n      <td>m3</td>\n      <td>NaN</td>\n      <td>2023-03-30 06:02:56.588435</td>\n    </tr>\n  </tbody>\n</table>\n<p>12960 rows × 6 columns</p>\n</div>"
     },
     "execution_count": 16,
     "metadata": {},
     "output_type": "execute_result"
    }
   ],
   "source": [
    "diesel_final"
   ],
   "metadata": {
    "collapsed": false
   }
  },
  {
   "cell_type": "code",
   "execution_count": 42,
   "outputs": [
    {
     "data": {
      "text/plain": "datetime.datetime(1988, 5, 1, 0, 0)"
     },
     "execution_count": 42,
     "metadata": {},
     "output_type": "execute_result"
    }
   ],
   "source": [
    "dt.datetime(1988, 5, 1)"
   ],
   "metadata": {
    "collapsed": false
   }
  },
  {
   "cell_type": "code",
   "execution_count": 52,
   "outputs": [
    {
     "ename": "TypeError",
     "evalue": "unhashable type: 'Series'",
     "output_type": "error",
     "traceback": [
      "\u001B[0;31m---------------------------------------------------------------------------\u001B[0m",
      "\u001B[0;31mTypeError\u001B[0m                                 Traceback (most recent call last)",
      "Cell \u001B[0;32mIn[52], line 1\u001B[0m\n\u001B[0;32m----> 1\u001B[0m \u001B[43mdiesel_melted\u001B[49m\u001B[38;5;241;43m.\u001B[39;49m\u001B[43massign\u001B[49m\u001B[43m(\u001B[49m\u001B[43myear_month\u001B[49m\u001B[38;5;241;43m=\u001B[39;49m\u001B[38;5;28;43;01mlambda\u001B[39;49;00m\u001B[43m \u001B[49m\u001B[43mx\u001B[49m\u001B[43m:\u001B[49m\u001B[43m \u001B[49m\u001B[43mdt\u001B[49m\u001B[38;5;241;43m.\u001B[39;49m\u001B[43mdatetime\u001B[49m\u001B[43m(\u001B[49m\u001B[43mx\u001B[49m\u001B[38;5;241;43m.\u001B[39;49m\u001B[43mANO\u001B[49m\u001B[43m,\u001B[49m\u001B[43m \u001B[49m\u001B[43mmonths_to_int\u001B[49m\u001B[43m(\u001B[49m\u001B[43mx\u001B[49m\u001B[38;5;241;43m.\u001B[39;49m\u001B[43mvariable\u001B[49m\u001B[43m)\u001B[49m\u001B[43m,\u001B[49m\u001B[43m \u001B[49m\u001B[38;5;241;43m1\u001B[39;49m\u001B[43m)\u001B[49m\u001B[43m)\u001B[49m\n",
      "File \u001B[0;32m~/teste/raizen_test/etl_pipeline_test_2023/venv/lib/python3.10/site-packages/pandas/core/frame.py:4889\u001B[0m, in \u001B[0;36mDataFrame.assign\u001B[0;34m(self, **kwargs)\u001B[0m\n\u001B[1;32m   4886\u001B[0m data \u001B[38;5;241m=\u001B[39m \u001B[38;5;28mself\u001B[39m\u001B[38;5;241m.\u001B[39mcopy()\n\u001B[1;32m   4888\u001B[0m \u001B[38;5;28;01mfor\u001B[39;00m k, v \u001B[38;5;129;01min\u001B[39;00m kwargs\u001B[38;5;241m.\u001B[39mitems():\n\u001B[0;32m-> 4889\u001B[0m     data[k] \u001B[38;5;241m=\u001B[39m \u001B[43mcom\u001B[49m\u001B[38;5;241;43m.\u001B[39;49m\u001B[43mapply_if_callable\u001B[49m\u001B[43m(\u001B[49m\u001B[43mv\u001B[49m\u001B[43m,\u001B[49m\u001B[43m \u001B[49m\u001B[43mdata\u001B[49m\u001B[43m)\u001B[49m\n\u001B[1;32m   4890\u001B[0m \u001B[38;5;28;01mreturn\u001B[39;00m data\n",
      "File \u001B[0;32m~/teste/raizen_test/etl_pipeline_test_2023/venv/lib/python3.10/site-packages/pandas/core/common.py:374\u001B[0m, in \u001B[0;36mapply_if_callable\u001B[0;34m(maybe_callable, obj, **kwargs)\u001B[0m\n\u001B[1;32m    363\u001B[0m \u001B[38;5;250m\u001B[39m\u001B[38;5;124;03m\"\"\"\u001B[39;00m\n\u001B[1;32m    364\u001B[0m \u001B[38;5;124;03mEvaluate possibly callable input using obj and kwargs if it is callable,\u001B[39;00m\n\u001B[1;32m    365\u001B[0m \u001B[38;5;124;03motherwise return as it is.\u001B[39;00m\n\u001B[0;32m   (...)\u001B[0m\n\u001B[1;32m    371\u001B[0m \u001B[38;5;124;03m**kwargs\u001B[39;00m\n\u001B[1;32m    372\u001B[0m \u001B[38;5;124;03m\"\"\"\u001B[39;00m\n\u001B[1;32m    373\u001B[0m \u001B[38;5;28;01mif\u001B[39;00m callable(maybe_callable):\n\u001B[0;32m--> 374\u001B[0m     \u001B[38;5;28;01mreturn\u001B[39;00m \u001B[43mmaybe_callable\u001B[49m\u001B[43m(\u001B[49m\u001B[43mobj\u001B[49m\u001B[43m,\u001B[49m\u001B[43m \u001B[49m\u001B[38;5;241;43m*\u001B[39;49m\u001B[38;5;241;43m*\u001B[39;49m\u001B[43mkwargs\u001B[49m\u001B[43m)\u001B[49m\n\u001B[1;32m    376\u001B[0m \u001B[38;5;28;01mreturn\u001B[39;00m maybe_callable\n",
      "Cell \u001B[0;32mIn[52], line 1\u001B[0m, in \u001B[0;36m<lambda>\u001B[0;34m(x)\u001B[0m\n\u001B[0;32m----> 1\u001B[0m diesel_melted\u001B[38;5;241m.\u001B[39massign(year_month\u001B[38;5;241m=\u001B[39m\u001B[38;5;28;01mlambda\u001B[39;00m x: dt\u001B[38;5;241m.\u001B[39mdatetime(x\u001B[38;5;241m.\u001B[39mANO, \u001B[43mmonths_to_int\u001B[49m\u001B[43m(\u001B[49m\u001B[43mx\u001B[49m\u001B[38;5;241;43m.\u001B[39;49m\u001B[43mvariable\u001B[49m\u001B[43m)\u001B[49m, \u001B[38;5;241m1\u001B[39m))\n",
      "Cell \u001B[0;32mIn[50], line 3\u001B[0m, in \u001B[0;36m<lambda>\u001B[0;34m(x)\u001B[0m\n\u001B[1;32m      1\u001B[0m months \u001B[38;5;241m=\u001B[39m [\u001B[38;5;124m'\u001B[39m\u001B[38;5;124mJan\u001B[39m\u001B[38;5;124m'\u001B[39m, \u001B[38;5;124m'\u001B[39m\u001B[38;5;124mFev\u001B[39m\u001B[38;5;124m'\u001B[39m, \u001B[38;5;124m'\u001B[39m\u001B[38;5;124mMar\u001B[39m\u001B[38;5;124m'\u001B[39m, \u001B[38;5;124m'\u001B[39m\u001B[38;5;124mAbr\u001B[39m\u001B[38;5;124m'\u001B[39m, \u001B[38;5;124m'\u001B[39m\u001B[38;5;124mMai\u001B[39m\u001B[38;5;124m'\u001B[39m, \u001B[38;5;124m'\u001B[39m\u001B[38;5;124mJun\u001B[39m\u001B[38;5;124m'\u001B[39m, \u001B[38;5;124m'\u001B[39m\u001B[38;5;124mJul\u001B[39m\u001B[38;5;124m'\u001B[39m, \u001B[38;5;124m'\u001B[39m\u001B[38;5;124mAgo\u001B[39m\u001B[38;5;124m'\u001B[39m, \u001B[38;5;124m'\u001B[39m\u001B[38;5;124mSet\u001B[39m\u001B[38;5;124m'\u001B[39m, \u001B[38;5;124m'\u001B[39m\u001B[38;5;124mOut\u001B[39m\u001B[38;5;124m'\u001B[39m, \u001B[38;5;124m'\u001B[39m\u001B[38;5;124mNov\u001B[39m\u001B[38;5;124m'\u001B[39m, \u001B[38;5;124m'\u001B[39m\u001B[38;5;124mDez\u001B[39m\u001B[38;5;124m'\u001B[39m]\n\u001B[1;32m      2\u001B[0m months_to_int_d \u001B[38;5;241m=\u001B[39m {m: i \u001B[38;5;28;01mfor\u001B[39;00m m, i \u001B[38;5;129;01min\u001B[39;00m \u001B[38;5;28mzip\u001B[39m(months, \u001B[38;5;28mrange\u001B[39m(\u001B[38;5;241m1\u001B[39m, \u001B[38;5;241m12\u001B[39m\u001B[38;5;241m+\u001B[39m\u001B[38;5;241m1\u001B[39m))}\n\u001B[0;32m----> 3\u001B[0m months_to_int \u001B[38;5;241m=\u001B[39m \u001B[38;5;28;01mlambda\u001B[39;00m x: \u001B[43mmonths_to_int_d\u001B[49m\u001B[43m[\u001B[49m\u001B[43mx\u001B[49m\u001B[43m]\u001B[49m\n",
      "\u001B[0;31mTypeError\u001B[0m: unhashable type: 'Series'"
     ]
    }
   ],
   "source": [
    "diesel_melted.assign(year_month=lambda x: dt.datetime(x.ANO, months_to_int(x.variable), 1))"
   ],
   "metadata": {
    "collapsed": false
   }
  },
  {
   "cell_type": "code",
   "execution_count": 45,
   "outputs": [
    {
     "data": {
      "text/plain": "0        2013\n1        2013\n2        2013\n3        2013\n4        2013\n         ... \n12955    2020\n12956    2020\n12957    2020\n12958    2020\n12959    2020\nName: ANO, Length: 12960, dtype: int64"
     },
     "execution_count": 45,
     "metadata": {},
     "output_type": "execute_result"
    }
   ],
   "source": [
    "diesel_melted['ANO']"
   ],
   "metadata": {
    "collapsed": false
   }
  },
  {
   "cell_type": "code",
   "execution_count": 12,
   "outputs": [
    {
     "data": {
      "text/plain": "pyspark.sql.dataframe.DataFrame"
     },
     "execution_count": 12,
     "metadata": {},
     "output_type": "execute_result"
    }
   ],
   "source": [
    "type(diesel_df)"
   ],
   "metadata": {
    "collapsed": false
   }
  },
  {
   "cell_type": "code",
   "execution_count": 13,
   "outputs": [
    {
     "ename": "AttributeError",
     "evalue": "'DataFrame' object has no attribute 'melt'",
     "output_type": "error",
     "traceback": [
      "\u001B[0;31m---------------------------------------------------------------------------\u001B[0m",
      "\u001B[0;31mAttributeError\u001B[0m                            Traceback (most recent call last)",
      "Cell \u001B[0;32mIn[13], line 1\u001B[0m\n\u001B[0;32m----> 1\u001B[0m \u001B[43moilder_df\u001B[49m\u001B[38;5;241;43m.\u001B[39;49m\u001B[43mmelt\u001B[49m(\n\u001B[1;32m      2\u001B[0m         ids\u001B[38;5;241m=\u001B[39m[\u001B[38;5;124m'\u001B[39m\u001B[38;5;124mANO\u001B[39m\u001B[38;5;124m'\u001B[39m], values\u001B[38;5;241m=\u001B[39m[\u001B[38;5;124m'\u001B[39m\u001B[38;5;124mJan\u001B[39m\u001B[38;5;124m'\u001B[39m, \u001B[38;5;124m'\u001B[39m\u001B[38;5;124mFev\u001B[39m\u001B[38;5;124m'\u001B[39m],\n\u001B[1;32m      3\u001B[0m         variableColumnName\u001B[38;5;241m=\u001B[39m\u001B[38;5;124m\"\u001B[39m\u001B[38;5;124mvariable\u001B[39m\u001B[38;5;124m\"\u001B[39m,\n\u001B[1;32m      4\u001B[0m         valueColumnName\u001B[38;5;241m=\u001B[39m\u001B[38;5;124m\"\u001B[39m\u001B[38;5;124mvalue\u001B[39m\u001B[38;5;124m\"\u001B[39m)\n",
      "File \u001B[0;32m~/teste/raizen_test/etl_pipeline_test_2023/venv/lib/python3.10/site-packages/pyspark/sql/dataframe.py:1988\u001B[0m, in \u001B[0;36mDataFrame.__getattr__\u001B[0;34m(self, name)\u001B[0m\n\u001B[1;32m   1978\u001B[0m \u001B[38;5;250m\u001B[39m\u001B[38;5;124;03m\"\"\"Returns the :class:`Column` denoted by ``name``.\u001B[39;00m\n\u001B[1;32m   1979\u001B[0m \n\u001B[1;32m   1980\u001B[0m \u001B[38;5;124;03m.. versionadded:: 1.3.0\u001B[39;00m\n\u001B[0;32m   (...)\u001B[0m\n\u001B[1;32m   1985\u001B[0m \u001B[38;5;124;03m[Row(age=2), Row(age=5)]\u001B[39;00m\n\u001B[1;32m   1986\u001B[0m \u001B[38;5;124;03m\"\"\"\u001B[39;00m\n\u001B[1;32m   1987\u001B[0m \u001B[38;5;28;01mif\u001B[39;00m name \u001B[38;5;129;01mnot\u001B[39;00m \u001B[38;5;129;01min\u001B[39;00m \u001B[38;5;28mself\u001B[39m\u001B[38;5;241m.\u001B[39mcolumns:\n\u001B[0;32m-> 1988\u001B[0m     \u001B[38;5;28;01mraise\u001B[39;00m \u001B[38;5;167;01mAttributeError\u001B[39;00m(\n\u001B[1;32m   1989\u001B[0m         \u001B[38;5;124m\"\u001B[39m\u001B[38;5;124m'\u001B[39m\u001B[38;5;132;01m%s\u001B[39;00m\u001B[38;5;124m'\u001B[39m\u001B[38;5;124m object has no attribute \u001B[39m\u001B[38;5;124m'\u001B[39m\u001B[38;5;132;01m%s\u001B[39;00m\u001B[38;5;124m'\u001B[39m\u001B[38;5;124m\"\u001B[39m \u001B[38;5;241m%\u001B[39m (\u001B[38;5;28mself\u001B[39m\u001B[38;5;241m.\u001B[39m\u001B[38;5;18m__class__\u001B[39m\u001B[38;5;241m.\u001B[39m\u001B[38;5;18m__name__\u001B[39m, name)\n\u001B[1;32m   1990\u001B[0m     )\n\u001B[1;32m   1991\u001B[0m jc \u001B[38;5;241m=\u001B[39m \u001B[38;5;28mself\u001B[39m\u001B[38;5;241m.\u001B[39m_jdf\u001B[38;5;241m.\u001B[39mapply(name)\n\u001B[1;32m   1992\u001B[0m \u001B[38;5;28;01mreturn\u001B[39;00m Column(jc)\n",
      "\u001B[0;31mAttributeError\u001B[0m: 'DataFrame' object has no attribute 'melt'"
     ]
    }
   ],
   "source": [
    "oilder_df.melt(\n",
    "        ids=['ANO'], values=['Jan', 'Fev'],\n",
    "        variableColumnName=\"variable\",\n",
    "        valueColumnName=\"value\")"
   ],
   "metadata": {
    "collapsed": false
   }
  },
  {
   "cell_type": "code",
   "execution_count": 38,
   "outputs": [
    {
     "data": {
      "text/plain": "{'ETANOL HIDRATADO (m3)',\n 'GASOLINA C (m3)',\n 'GASOLINA DE AVIAÇÃO (m3)',\n 'GLP (m3)',\n 'QUEROSENE DE AVIAÇÃO (m3)',\n 'QUEROSENE ILUMINANTE (m3)',\n 'ÓLEO COMBUSTÍVEL (m3)',\n 'ÓLEO DIESEL (m3)'}"
     },
     "execution_count": 38,
     "metadata": {},
     "output_type": "execute_result"
    }
   ],
   "source": [
    "set(oilder_df.toPandas()['COMBUSTÍVEL'].to_list())"
   ],
   "metadata": {
    "collapsed": false
   }
  },
  {
   "cell_type": "code",
   "execution_count": 25,
   "outputs": [
    {
     "data": {
      "text/plain": "0                 RONDÔNIA\n1                     ACRE\n2                 AMAZONAS\n3                  RORAIMA\n4                     PARÁ\n5                    AMAPÁ\n6                TOCANTINS\n7                 MARANHÃO\n8                    PIAUÍ\n9                    CEARÁ\n10     RIO GRANDE DO NORTE\n11                 PARAÍBA\n12              PERNAMBUCO\n13                 ALAGOAS\n14                 SERGIPE\n15                   BAHIA\n16            MINAS GERAIS\n17          ESPÍRITO SANTO\n18          RIO DE JANEIRO\n19               SÃO PAULO\n20                  PARANÁ\n21          SANTA CATARINA\n22       RIO GRANDE DO SUL\n23      MATO GROSSO DO SUL\n24             MATO GROSSO\n25                   GOIÁS\n26        DISTRITO FEDERAL\n27                RONDÔNIA\n28                    ACRE\n29                AMAZONAS\n30                 RORAIMA\n31                    PARÁ\n32                   AMAPÁ\n33               TOCANTINS\n34                MARANHÃO\n35                   PIAUÍ\n36                   CEARÁ\n37     RIO GRANDE DO NORTE\n38                 PARAÍBA\n39              PERNAMBUCO\n40                 ALAGOAS\n41                 SERGIPE\n42                   BAHIA\n43            MINAS GERAIS\n44          ESPÍRITO SANTO\n45          RIO DE JANEIRO\n46               SÃO PAULO\n47                  PARANÁ\n48          SANTA CATARINA\n49       RIO GRANDE DO SUL\n50      MATO GROSSO DO SUL\n51             MATO GROSSO\n52                   GOIÁS\n53        DISTRITO FEDERAL\n54                RONDÔNIA\n55                    ACRE\n56                AMAZONAS\n57                 RORAIMA\n58                    PARÁ\n59                   AMAPÁ\n60               TOCANTINS\n61                MARANHÃO\n62                   PIAUÍ\n63                   CEARÁ\n64     RIO GRANDE DO NORTE\n65                 PARAÍBA\n66              PERNAMBUCO\n67                 ALAGOAS\n68                 SERGIPE\n69                   BAHIA\n70            MINAS GERAIS\n71          ESPÍRITO SANTO\n72          RIO DE JANEIRO\n73               SÃO PAULO\n74                  PARANÁ\n75          SANTA CATARINA\n76       RIO GRANDE DO SUL\n77      MATO GROSSO DO SUL\n78             MATO GROSSO\n79                   GOIÁS\n80        DISTRITO FEDERAL\n81                RONDÔNIA\n82                    ACRE\n83                AMAZONAS\n84                 RORAIMA\n85                    PARÁ\n86                   AMAPÁ\n87               TOCANTINS\n88                MARANHÃO\n89                   PIAUÍ\n90                   CEARÁ\n91     RIO GRANDE DO NORTE\n92                 PARAÍBA\n93              PERNAMBUCO\n94                 ALAGOAS\n95                 SERGIPE\n96                   BAHIA\n97            MINAS GERAIS\n98          ESPÍRITO SANTO\n99          RIO DE JANEIRO\n100              SÃO PAULO\n101                 PARANÁ\n102         SANTA CATARINA\n103      RIO GRANDE DO SUL\n104     MATO GROSSO DO SUL\n105            MATO GROSSO\n106                  GOIÁS\n107       DISTRITO FEDERAL\n108               RONDÔNIA\n109                   ACRE\n110               AMAZONAS\n111                RORAIMA\n112                   PARÁ\n113                  AMAPÁ\n114              TOCANTINS\n115               MARANHÃO\n116                  PIAUÍ\n117                  CEARÁ\n118    RIO GRANDE DO NORTE\n119                PARAÍBA\n120             PERNAMBUCO\n121                ALAGOAS\n122                SERGIPE\n123                  BAHIA\n124           MINAS GERAIS\n125         ESPÍRITO SANTO\n126         RIO DE JANEIRO\n127              SÃO PAULO\n128                 PARANÁ\n129         SANTA CATARINA\n130      RIO GRANDE DO SUL\n131     MATO GROSSO DO SUL\n132            MATO GROSSO\n133                  GOIÁS\n134       DISTRITO FEDERAL\n135               RONDÔNIA\n136                   ACRE\n137               AMAZONAS\n138                RORAIMA\n139                   PARÁ\n140                  AMAPÁ\n141              TOCANTINS\n142               MARANHÃO\n143                  PIAUÍ\n144                  CEARÁ\n145    RIO GRANDE DO NORTE\n146                PARAÍBA\n147             PERNAMBUCO\n148                ALAGOAS\n149                SERGIPE\n150                  BAHIA\n151           MINAS GERAIS\n152         ESPÍRITO SANTO\n153         RIO DE JANEIRO\n154              SÃO PAULO\n155                 PARANÁ\n156         SANTA CATARINA\n157      RIO GRANDE DO SUL\n158     MATO GROSSO DO SUL\n159            MATO GROSSO\n160                  GOIÁS\n161       DISTRITO FEDERAL\n162               RONDÔNIA\n163                   ACRE\n164               AMAZONAS\n165                RORAIMA\n166                   PARÁ\n167                  AMAPÁ\n168              TOCANTINS\n169               MARANHÃO\n170                  PIAUÍ\n171                  CEARÁ\n172    RIO GRANDE DO NORTE\n173                PARAÍBA\n174             PERNAMBUCO\n175                ALAGOAS\n176                SERGIPE\n177                  BAHIA\n178           MINAS GERAIS\n179         ESPÍRITO SANTO\n180         RIO DE JANEIRO\n181              SÃO PAULO\n182                 PARANÁ\n183         SANTA CATARINA\n184      RIO GRANDE DO SUL\n185     MATO GROSSO DO SUL\n186            MATO GROSSO\n187                  GOIÁS\n188       DISTRITO FEDERAL\n189               RONDÔNIA\n190                   ACRE\n191               AMAZONAS\n192                RORAIMA\n193                   PARÁ\n194                  AMAPÁ\n195              TOCANTINS\n196               MARANHÃO\n197                  PIAUÍ\n198                  CEARÁ\n199    RIO GRANDE DO NORTE\n200                PARAÍBA\n201             PERNAMBUCO\n202                ALAGOAS\n203                SERGIPE\n204                  BAHIA\n205           MINAS GERAIS\n206         ESPÍRITO SANTO\n207         RIO DE JANEIRO\n208              SÃO PAULO\n209                 PARANÁ\n210         SANTA CATARINA\n211      RIO GRANDE DO SUL\n212     MATO GROSSO DO SUL\n213            MATO GROSSO\n214                  GOIÁS\n215       DISTRITO FEDERAL\n216               RONDÔNIA\n217                   ACRE\n218               AMAZONAS\n219                RORAIMA\n220                   PARÁ\n221                  AMAPÁ\n222              TOCANTINS\n223               MARANHÃO\n224                  PIAUÍ\n225                  CEARÁ\n226    RIO GRANDE DO NORTE\n227                PARAÍBA\n228             PERNAMBUCO\n229                ALAGOAS\n230                SERGIPE\n231                  BAHIA\n232           MINAS GERAIS\n233         ESPÍRITO SANTO\n234         RIO DE JANEIRO\n235              SÃO PAULO\n236                 PARANÁ\n237         SANTA CATARINA\n238      RIO GRANDE DO SUL\n239     MATO GROSSO DO SUL\n240            MATO GROSSO\n241                  GOIÁS\n242       DISTRITO FEDERAL\n243               RONDÔNIA\n244                   ACRE\n245               AMAZONAS\n246                RORAIMA\n247                   PARÁ\n248                  AMAPÁ\n249              TOCANTINS\n250               MARANHÃO\n251                  PIAUÍ\n252                  CEARÁ\n253    RIO GRANDE DO NORTE\n254                PARAÍBA\n255             PERNAMBUCO\n256                ALAGOAS\n257                SERGIPE\n258                  BAHIA\n259           MINAS GERAIS\n260         ESPÍRITO SANTO\n261         RIO DE JANEIRO\n262              SÃO PAULO\n263                 PARANÁ\n264         SANTA CATARINA\n265      RIO GRANDE DO SUL\n266     MATO GROSSO DO SUL\n267            MATO GROSSO\n268                  GOIÁS\n269       DISTRITO FEDERAL\n270               RONDÔNIA\n271                   ACRE\n272               AMAZONAS\n273                RORAIMA\n274                   PARÁ\n275                  AMAPÁ\n276              TOCANTINS\n277               MARANHÃO\n278                  PIAUÍ\n279                  CEARÁ\n280    RIO GRANDE DO NORTE\n281                PARAÍBA\n282             PERNAMBUCO\n283                ALAGOAS\n284                SERGIPE\n285                  BAHIA\n286           MINAS GERAIS\n287         ESPÍRITO SANTO\n288         RIO DE JANEIRO\n289              SÃO PAULO\n290                 PARANÁ\n291         SANTA CATARINA\n292      RIO GRANDE DO SUL\n293     MATO GROSSO DO SUL\n294            MATO GROSSO\n295                  GOIÁS\n296       DISTRITO FEDERAL\n297               RONDÔNIA\n298                   ACRE\n299               AMAZONAS\n300                RORAIMA\n301                   PARÁ\n302                  AMAPÁ\n303              TOCANTINS\n304               MARANHÃO\n305                  PIAUÍ\n306                  CEARÁ\n307    RIO GRANDE DO NORTE\n308                PARAÍBA\n309             PERNAMBUCO\n310                ALAGOAS\n311                SERGIPE\n312                  BAHIA\n313           MINAS GERAIS\n314         ESPÍRITO SANTO\n315         RIO DE JANEIRO\n316              SÃO PAULO\n317                 PARANÁ\n318         SANTA CATARINA\n319      RIO GRANDE DO SUL\n320     MATO GROSSO DO SUL\n321            MATO GROSSO\n322                  GOIÁS\n323       DISTRITO FEDERAL\n324               RONDÔNIA\n325                   ACRE\n326               AMAZONAS\n327                RORAIMA\n328                   PARÁ\n329                  AMAPÁ\n330              TOCANTINS\n331               MARANHÃO\n332                  PIAUÍ\n333                  CEARÁ\n334    RIO GRANDE DO NORTE\n335                PARAÍBA\n336             PERNAMBUCO\n337                ALAGOAS\n338                SERGIPE\n339                  BAHIA\n340           MINAS GERAIS\n341         ESPÍRITO SANTO\n342         RIO DE JANEIRO\n343              SÃO PAULO\n344                 PARANÁ\n345         SANTA CATARINA\n346      RIO GRANDE DO SUL\n347     MATO GROSSO DO SUL\n348            MATO GROSSO\n349                  GOIÁS\n350       DISTRITO FEDERAL\n351               RONDÔNIA\n352                   ACRE\n353               AMAZONAS\n354                RORAIMA\n355                   PARÁ\n356                  AMAPÁ\n357              TOCANTINS\n358               MARANHÃO\n359                  PIAUÍ\n360                  CEARÁ\n361    RIO GRANDE DO NORTE\n362                PARAÍBA\n363             PERNAMBUCO\n364                ALAGOAS\n365                SERGIPE\n366                  BAHIA\n367           MINAS GERAIS\n368         ESPÍRITO SANTO\n369         RIO DE JANEIRO\n370              SÃO PAULO\n371                 PARANÁ\n372         SANTA CATARINA\n373      RIO GRANDE DO SUL\n374     MATO GROSSO DO SUL\n375            MATO GROSSO\n376                  GOIÁS\n377       DISTRITO FEDERAL\n378               RONDÔNIA\n379                   ACRE\n380               AMAZONAS\n381                RORAIMA\n382                   PARÁ\n383                  AMAPÁ\n384              TOCANTINS\n385               MARANHÃO\n386                  PIAUÍ\n387                  CEARÁ\n388    RIO GRANDE DO NORTE\n389                PARAÍBA\n390             PERNAMBUCO\n391                ALAGOAS\n392                SERGIPE\n393                  BAHIA\n394           MINAS GERAIS\n395         ESPÍRITO SANTO\n396         RIO DE JANEIRO\n397              SÃO PAULO\n398                 PARANÁ\n399         SANTA CATARINA\n400      RIO GRANDE DO SUL\n401     MATO GROSSO DO SUL\n402            MATO GROSSO\n403                  GOIÁS\n404       DISTRITO FEDERAL\n405               RONDÔNIA\n406                   ACRE\n407               AMAZONAS\n408                RORAIMA\n409                   PARÁ\n410                  AMAPÁ\n411              TOCANTINS\n412               MARANHÃO\n413                  PIAUÍ\n414                  CEARÁ\n415    RIO GRANDE DO NORTE\n416                PARAÍBA\n417             PERNAMBUCO\n418                ALAGOAS\n419                SERGIPE\n420                  BAHIA\n421           MINAS GERAIS\n422         ESPÍRITO SANTO\n423         RIO DE JANEIRO\n424              SÃO PAULO\n425                 PARANÁ\n426         SANTA CATARINA\n427      RIO GRANDE DO SUL\n428     MATO GROSSO DO SUL\n429            MATO GROSSO\n430                  GOIÁS\n431       DISTRITO FEDERAL\n432               RONDÔNIA\n433                   ACRE\n434               AMAZONAS\n435                RORAIMA\n436                   PARÁ\n437                  AMAPÁ\n438              TOCANTINS\n439               MARANHÃO\n440                  PIAUÍ\n441                  CEARÁ\n442    RIO GRANDE DO NORTE\n443                PARAÍBA\n444             PERNAMBUCO\n445                ALAGOAS\n446                SERGIPE\n447                  BAHIA\n448           MINAS GERAIS\n449         ESPÍRITO SANTO\n450         RIO DE JANEIRO\n451              SÃO PAULO\n452                 PARANÁ\n453         SANTA CATARINA\n454      RIO GRANDE DO SUL\n455     MATO GROSSO DO SUL\n456            MATO GROSSO\n457                  GOIÁS\n458       DISTRITO FEDERAL\n459               RONDÔNIA\n460                   ACRE\n461               AMAZONAS\n462                RORAIMA\n463                   PARÁ\n464                  AMAPÁ\n465              TOCANTINS\n466               MARANHÃO\n467                  PIAUÍ\n468                  CEARÁ\n469    RIO GRANDE DO NORTE\n470                PARAÍBA\n471             PERNAMBUCO\n472                ALAGOAS\n473                SERGIPE\n474                  BAHIA\n475           MINAS GERAIS\n476         ESPÍRITO SANTO\n477         RIO DE JANEIRO\n478              SÃO PAULO\n479                 PARANÁ\n480         SANTA CATARINA\n481      RIO GRANDE DO SUL\n482     MATO GROSSO DO SUL\n483            MATO GROSSO\n484                  GOIÁS\n485       DISTRITO FEDERAL\n486               RONDÔNIA\n487                   ACRE\n488               AMAZONAS\n489                RORAIMA\n490                   PARÁ\n491                  AMAPÁ\n492              TOCANTINS\n493               MARANHÃO\n494                  PIAUÍ\n495                  CEARÁ\n496    RIO GRANDE DO NORTE\n497                PARAÍBA\n498             PERNAMBUCO\n499                ALAGOAS\n500                SERGIPE\n501                  BAHIA\n502           MINAS GERAIS\n503         ESPÍRITO SANTO\n504         RIO DE JANEIRO\n505              SÃO PAULO\n506                 PARANÁ\n507         SANTA CATARINA\n508      RIO GRANDE DO SUL\n509     MATO GROSSO DO SUL\n510            MATO GROSSO\n511                  GOIÁS\n512       DISTRITO FEDERAL\n513               RONDÔNIA\n514                   ACRE\n515               AMAZONAS\n516                RORAIMA\n517                   PARÁ\n518                  AMAPÁ\n519              TOCANTINS\n520               MARANHÃO\n521                  PIAUÍ\n522                  CEARÁ\n523    RIO GRANDE DO NORTE\n524                PARAÍBA\n525             PERNAMBUCO\n526                ALAGOAS\n527                SERGIPE\n528                  BAHIA\n529           MINAS GERAIS\n530         ESPÍRITO SANTO\n531         RIO DE JANEIRO\n532              SÃO PAULO\n533                 PARANÁ\n534         SANTA CATARINA\n535      RIO GRANDE DO SUL\n536     MATO GROSSO DO SUL\n537            MATO GROSSO\n538                  GOIÁS\n539       DISTRITO FEDERAL\n540               RONDÔNIA\n541                   ACRE\n542               AMAZONAS\n543                RORAIMA\n544                   PARÁ\n545                  AMAPÁ\n546              TOCANTINS\n547               MARANHÃO\n548                  PIAUÍ\n549                  CEARÁ\n550    RIO GRANDE DO NORTE\n551                PARAÍBA\n552             PERNAMBUCO\n553                ALAGOAS\n554                SERGIPE\n555                  BAHIA\n556           MINAS GERAIS\n557         ESPÍRITO SANTO\n558         RIO DE JANEIRO\n559              SÃO PAULO\n560                 PARANÁ\n561         SANTA CATARINA\n562      RIO GRANDE DO SUL\n563     MATO GROSSO DO SUL\n564            MATO GROSSO\n565                  GOIÁS\n566       DISTRITO FEDERAL\n567               RONDÔNIA\n568                   ACRE\n569               AMAZONAS\n570                RORAIMA\n571                   PARÁ\n572                  AMAPÁ\n573              TOCANTINS\n574               MARANHÃO\n575                  PIAUÍ\n576                  CEARÁ\n577    RIO GRANDE DO NORTE\n578                PARAÍBA\n579             PERNAMBUCO\n580                ALAGOAS\n581                SERGIPE\n582                  BAHIA\n583           MINAS GERAIS\n584         ESPÍRITO SANTO\n585         RIO DE JANEIRO\n586              SÃO PAULO\n587                 PARANÁ\n588         SANTA CATARINA\n589      RIO GRANDE DO SUL\n590     MATO GROSSO DO SUL\n591            MATO GROSSO\n592                  GOIÁS\n593       DISTRITO FEDERAL\n594               RONDÔNIA\n595                   ACRE\n596               AMAZONAS\n597                RORAIMA\n598                   PARÁ\n599                  AMAPÁ\n600              TOCANTINS\n601               MARANHÃO\n602                  PIAUÍ\n603                  CEARÁ\n604    RIO GRANDE DO NORTE\n605                PARAÍBA\n606             PERNAMBUCO\n607                ALAGOAS\n608                SERGIPE\n609                  BAHIA\n610           MINAS GERAIS\n611         ESPÍRITO SANTO\n612         RIO DE JANEIRO\n613              SÃO PAULO\n614                 PARANÁ\n615         SANTA CATARINA\n616      RIO GRANDE DO SUL\n617     MATO GROSSO DO SUL\n618            MATO GROSSO\n619                  GOIÁS\n620       DISTRITO FEDERAL\n621               RONDÔNIA\n622                   ACRE\n623               AMAZONAS\n624                RORAIMA\n625                   PARÁ\n626                  AMAPÁ\n627              TOCANTINS\n628               MARANHÃO\n629                  PIAUÍ\n630                  CEARÁ\n631    RIO GRANDE DO NORTE\n632                PARAÍBA\n633             PERNAMBUCO\n634                ALAGOAS\n635                SERGIPE\n636                  BAHIA\n637           MINAS GERAIS\n638         ESPÍRITO SANTO\n639         RIO DE JANEIRO\n640              SÃO PAULO\n641                 PARANÁ\n642         SANTA CATARINA\n643      RIO GRANDE DO SUL\n644     MATO GROSSO DO SUL\n645            MATO GROSSO\n646                  GOIÁS\n647       DISTRITO FEDERAL\n648               RONDÔNIA\n649                   ACRE\n650               AMAZONAS\n651                RORAIMA\n652                   PARÁ\n653                  AMAPÁ\n654              TOCANTINS\n655               MARANHÃO\n656                  PIAUÍ\n657                  CEARÁ\n658    RIO GRANDE DO NORTE\n659                PARAÍBA\n660             PERNAMBUCO\n661                ALAGOAS\n662                SERGIPE\n663                  BAHIA\n664           MINAS GERAIS\n665         ESPÍRITO SANTO\n666         RIO DE JANEIRO\n667              SÃO PAULO\n668                 PARANÁ\n669         SANTA CATARINA\n670      RIO GRANDE DO SUL\n671     MATO GROSSO DO SUL\n672            MATO GROSSO\n673                  GOIÁS\n674       DISTRITO FEDERAL\n675               RONDÔNIA\n676                   ACRE\n677               AMAZONAS\n678                RORAIMA\n679                   PARÁ\n680                  AMAPÁ\n681              TOCANTINS\n682               MARANHÃO\n683                  PIAUÍ\n684                  CEARÁ\n685    RIO GRANDE DO NORTE\n686                PARAÍBA\n687             PERNAMBUCO\n688                ALAGOAS\n689                SERGIPE\n690                  BAHIA\n691           MINAS GERAIS\n692         ESPÍRITO SANTO\n693         RIO DE JANEIRO\n694              SÃO PAULO\n695                 PARANÁ\n696         SANTA CATARINA\n697      RIO GRANDE DO SUL\n698     MATO GROSSO DO SUL\n699            MATO GROSSO\n700                  GOIÁS\n701       DISTRITO FEDERAL\n702               RONDÔNIA\n703                   ACRE\n704               AMAZONAS\n705                RORAIMA\n706                   PARÁ\n707                  AMAPÁ\n708              TOCANTINS\n709               MARANHÃO\n710                  PIAUÍ\n711                  CEARÁ\n712    RIO GRANDE DO NORTE\n713                PARAÍBA\n714             PERNAMBUCO\n715                ALAGOAS\n716                SERGIPE\n717                  BAHIA\n718           MINAS GERAIS\n719         ESPÍRITO SANTO\n720         RIO DE JANEIRO\n721              SÃO PAULO\n722                 PARANÁ\n723         SANTA CATARINA\n724      RIO GRANDE DO SUL\n725     MATO GROSSO DO SUL\n726            MATO GROSSO\n727                  GOIÁS\n728       DISTRITO FEDERAL\n729               RONDÔNIA\n730                   ACRE\n731               AMAZONAS\n732                RORAIMA\n733                   PARÁ\n734                  AMAPÁ\n735              TOCANTINS\n736               MARANHÃO\n737                  PIAUÍ\n738                  CEARÁ\n739    RIO GRANDE DO NORTE\n740                PARAÍBA\n741             PERNAMBUCO\n742                ALAGOAS\n743                SERGIPE\n744                  BAHIA\n745           MINAS GERAIS\n746         ESPÍRITO SANTO\n747         RIO DE JANEIRO\n748              SÃO PAULO\n749                 PARANÁ\n750         SANTA CATARINA\n751      RIO GRANDE DO SUL\n752     MATO GROSSO DO SUL\n753            MATO GROSSO\n754                  GOIÁS\n755       DISTRITO FEDERAL\n756               RONDÔNIA\n757                   ACRE\n758               AMAZONAS\n759                RORAIMA\n760                   PARÁ\n761                  AMAPÁ\n762              TOCANTINS\n763               MARANHÃO\n764                  PIAUÍ\n765                  CEARÁ\n766    RIO GRANDE DO NORTE\n767                PARAÍBA\n768             PERNAMBUCO\n769                ALAGOAS\n770                SERGIPE\n771                  BAHIA\n772           MINAS GERAIS\n773         ESPÍRITO SANTO\n774         RIO DE JANEIRO\n775              SÃO PAULO\n776                 PARANÁ\n777         SANTA CATARINA\n778      RIO GRANDE DO SUL\n779     MATO GROSSO DO SUL\n780            MATO GROSSO\n781                  GOIÁS\n782       DISTRITO FEDERAL\n783               RONDÔNIA\n784                   ACRE\n785               AMAZONAS\n786                RORAIMA\n787                   PARÁ\n788                  AMAPÁ\n789              TOCANTINS\n790               MARANHÃO\n791                  PIAUÍ\n792                  CEARÁ\n793    RIO GRANDE DO NORTE\n794                PARAÍBA\n795             PERNAMBUCO\n796                ALAGOAS\n797                SERGIPE\n798                  BAHIA\n799           MINAS GERAIS\n800         ESPÍRITO SANTO\n801         RIO DE JANEIRO\n802              SÃO PAULO\n803                 PARANÁ\n804         SANTA CATARINA\n805      RIO GRANDE DO SUL\n806     MATO GROSSO DO SUL\n807            MATO GROSSO\n808                  GOIÁS\n809       DISTRITO FEDERAL\n810               RONDÔNIA\n811                   ACRE\n812               AMAZONAS\n813                RORAIMA\n814                   PARÁ\n815                  AMAPÁ\n816              TOCANTINS\n817               MARANHÃO\n818                  PIAUÍ\n819                  CEARÁ\n820    RIO GRANDE DO NORTE\n821                PARAÍBA\n822             PERNAMBUCO\n823                ALAGOAS\n824                SERGIPE\n825                  BAHIA\n826           MINAS GERAIS\n827         ESPÍRITO SANTO\n828         RIO DE JANEIRO\n829              SÃO PAULO\n830                 PARANÁ\n831         SANTA CATARINA\n832      RIO GRANDE DO SUL\n833     MATO GROSSO DO SUL\n834            MATO GROSSO\n835                  GOIÁS\n836       DISTRITO FEDERAL\n837               RONDÔNIA\n838                   ACRE\n839               AMAZONAS\n840                RORAIMA\n841                   PARÁ\n842                  AMAPÁ\n843              TOCANTINS\n844               MARANHÃO\n845                  PIAUÍ\n846                  CEARÁ\n847    RIO GRANDE DO NORTE\n848                PARAÍBA\n849             PERNAMBUCO\n850                ALAGOAS\n851                SERGIPE\n852                  BAHIA\n853           MINAS GERAIS\n854         ESPÍRITO SANTO\n855         RIO DE JANEIRO\n856              SÃO PAULO\n857                 PARANÁ\n858         SANTA CATARINA\n859      RIO GRANDE DO SUL\n860     MATO GROSSO DO SUL\n861            MATO GROSSO\n862                  GOIÁS\n863       DISTRITO FEDERAL\n864               RONDÔNIA\n865                   ACRE\n866               AMAZONAS\n867                RORAIMA\n868                   PARÁ\n869                  AMAPÁ\n870              TOCANTINS\n871               MARANHÃO\n872                  PIAUÍ\n873                  CEARÁ\n874    RIO GRANDE DO NORTE\n875                PARAÍBA\n876             PERNAMBUCO\n877                ALAGOAS\n878                SERGIPE\n879                  BAHIA\n880           MINAS GERAIS\n881         ESPÍRITO SANTO\n882         RIO DE JANEIRO\n883              SÃO PAULO\n884                 PARANÁ\n885         SANTA CATARINA\n886      RIO GRANDE DO SUL\n887     MATO GROSSO DO SUL\n888            MATO GROSSO\n889                  GOIÁS\n890       DISTRITO FEDERAL\n891               RONDÔNIA\n892                   ACRE\n893               AMAZONAS\n894                RORAIMA\n895                   PARÁ\n896                  AMAPÁ\n897              TOCANTINS\n898               MARANHÃO\n899                  PIAUÍ\n900                  CEARÁ\n901    RIO GRANDE DO NORTE\n902                PARAÍBA\n903             PERNAMBUCO\n904                ALAGOAS\n905                SERGIPE\n906                  BAHIA\n907           MINAS GERAIS\n908         ESPÍRITO SANTO\n909         RIO DE JANEIRO\n910              SÃO PAULO\n911                 PARANÁ\n912         SANTA CATARINA\n913      RIO GRANDE DO SUL\n914     MATO GROSSO DO SUL\n915            MATO GROSSO\n916                  GOIÁS\n917       DISTRITO FEDERAL\n918               RONDÔNIA\n919                   ACRE\n920               AMAZONAS\n921                RORAIMA\n922                   PARÁ\n923                  AMAPÁ\n924              TOCANTINS\n925               MARANHÃO\n926                  PIAUÍ\n927                  CEARÁ\n928    RIO GRANDE DO NORTE\n929                PARAÍBA\n930             PERNAMBUCO\n931                ALAGOAS\n932                SERGIPE\n933                  BAHIA\n934           MINAS GERAIS\n935         ESPÍRITO SANTO\n936         RIO DE JANEIRO\n937              SÃO PAULO\n938                 PARANÁ\n939         SANTA CATARINA\n940      RIO GRANDE DO SUL\n941     MATO GROSSO DO SUL\n942            MATO GROSSO\n943                  GOIÁS\n944       DISTRITO FEDERAL\n945               RONDÔNIA\n946                   ACRE\n947               AMAZONAS\n948                RORAIMA\n949                   PARÁ\n950                  AMAPÁ\n951              TOCANTINS\n952               MARANHÃO\n953                  PIAUÍ\n954                  CEARÁ\n955    RIO GRANDE DO NORTE\n956                PARAÍBA\n957             PERNAMBUCO\n958                ALAGOAS\n959                SERGIPE\n960                  BAHIA\n961           MINAS GERAIS\n962         ESPÍRITO SANTO\n963         RIO DE JANEIRO\n964              SÃO PAULO\n965                 PARANÁ\n966         SANTA CATARINA\n967      RIO GRANDE DO SUL\n968     MATO GROSSO DO SUL\n969            MATO GROSSO\n970                  GOIÁS\n971       DISTRITO FEDERAL\n972               RONDÔNIA\n973                   ACRE\n974               AMAZONAS\n975                RORAIMA\n976                   PARÁ\n977                  AMAPÁ\n978              TOCANTINS\n979               MARANHÃO\n980                  PIAUÍ\n981                  CEARÁ\n982    RIO GRANDE DO NORTE\n983                PARAÍBA\n984             PERNAMBUCO\n985                ALAGOAS\n986                SERGIPE\n987                  BAHIA\n988           MINAS GERAIS\n989         ESPÍRITO SANTO\n990         RIO DE JANEIRO\n991              SÃO PAULO\n992                 PARANÁ\n993         SANTA CATARINA\n994      RIO GRANDE DO SUL\n995     MATO GROSSO DO SUL\n996            MATO GROSSO\n997                  GOIÁS\n998       DISTRITO FEDERAL\n999               RONDÔNIA\nName: ESTADO, dtype: object\nShowing only the first 1000"
     },
     "execution_count": 25,
     "metadata": {},
     "output_type": "execute_result"
    }
   ],
   "source": [
    "oilder_df['ESTADO']"
   ],
   "metadata": {
    "collapsed": false
   }
  },
  {
   "cell_type": "code",
   "execution_count": 19,
   "outputs": [
    {
     "name": "stdout",
     "output_type": "stream",
     "text": [
      "+-------+----+----+----+\n",
      "|Country|2018|2019|2020|\n",
      "+-------+----+----+----+\n",
      "|Spain  |101 |201 |301 |\n",
      "|Taiwan |102 |202 |302 |\n",
      "|Italy  |103 |203 |303 |\n",
      "|China  |104 |204 |304 |\n",
      "+-------+----+----+----+\n",
      "\n"
     ]
    }
   ],
   "source": [
    "# Prepare Data\n",
    "data = [(\"Spain\", 101, 201, 301),\n",
    "        (\"Taiwan\", 102, 202, 302),\n",
    "        (\"Italy\", 103, 203, 303),\n",
    "        (\"China\", 104, 204, 304)\n",
    "  ]\n",
    "\n",
    "# Create DataFrame\n",
    "columns= [\"Country\", \"2018\", \"2019\", \"2020\"]\n",
    "df = spark.createDataFrame(data = data, schema = columns)\n",
    "df.show(truncate=False)"
   ],
   "metadata": {
    "collapsed": false
   }
  },
  {
   "cell_type": "code",
   "execution_count": null,
   "outputs": [],
   "source": [
    "from pyspark.sql.functions import col, expr, concat, lit, from_unixtime, unix_timestamp\n"
   ],
   "metadata": {
    "collapsed": false
   }
  },
  {
   "cell_type": "code",
   "execution_count": 25,
   "outputs": [],
   "source": [
    "import pyspark.sql.functions as F\n",
    "import itertools\n",
    "\n",
    "months = ['Jan', 'Fev', 'Mar', 'Abr', 'Mai', 'Jun', 'Jul', 'Ago', 'Set', 'Out', 'Nov', 'Dez']\n",
    "\n",
    "df = oilder_df.withColumn(\"year_gain_map\", F.create_map(list(itertools.chain(months)))) \\\n",
    "       .select(\"Ano\", F.explode(\"year_gain_map\").alias(\"Year\", \"CPI\"))"
   ],
   "metadata": {
    "collapsed": false
   }
  },
  {
   "cell_type": "code",
   "execution_count": 26,
   "outputs": [
    {
     "name": "stdout",
     "output_type": "stream",
     "text": [
      "+----+----------+---------+\n",
      "| Ano|      Year|      CPI|\n",
      "+----+----------+---------+\n",
      "|2000|136073.253| 9563.263|\n",
      "|2000| 11341.229| 9369.746|\n",
      "|2000| 10719.983|11165.968|\n",
      "|2000| 12312.451| 11220.97|\n",
      "|2000| 12482.281|13591.122|\n",
      "|2000|  11940.57|11547.576|\n",
      "|2000|  3358.346|40001.853|\n",
      "|2000|  3065.758|  3495.29|\n",
      "|2000|   2946.93|  3023.92|\n",
      "|2000|   3206.93|  3612.58|\n",
      "|2000|   3264.46|  3835.74|\n",
      "|2000|  3676.571|  3225.61|\n",
      "|2000| 20766.918|21180.919|\n",
      "|2000|242742.352|17615.604|\n",
      "|2000|   20258.2|18741.344|\n",
      "|2000| 19604.023|20221.674|\n",
      "|2000| 20792.616|19912.898|\n",
      "|2000| 21869.338|21145.643|\n",
      "|2000|  3716.032|   3200.4|\n",
      "|2000|  3339.332|43338.929|\n",
      "+----+----------+---------+\n",
      "only showing top 20 rows\n",
      "\n"
     ]
    }
   ],
   "source": [
    "df.show()"
   ],
   "metadata": {
    "collapsed": false
   }
  },
  {
   "cell_type": "code",
   "execution_count": null,
   "outputs": [],
   "source": [],
   "metadata": {
    "collapsed": false
   }
  }
 ],
 "metadata": {
  "kernelspec": {
   "display_name": "Python 3",
   "language": "python",
   "name": "python3"
  },
  "language_info": {
   "codemirror_mode": {
    "name": "ipython",
    "version": 2
   },
   "file_extension": ".py",
   "mimetype": "text/x-python",
   "name": "python",
   "nbconvert_exporter": "python",
   "pygments_lexer": "ipython2",
   "version": "2.7.6"
  }
 },
 "nbformat": 4,
 "nbformat_minor": 0
}
